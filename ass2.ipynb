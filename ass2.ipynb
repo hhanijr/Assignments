{
 "cells": [
  {
   "cell_type": "code",
   "execution_count": 2,
   "id": "dad8ff67",
   "metadata": {},
   "outputs": [
    {
     "name": "stdout",
     "output_type": "stream",
     "text": [
      "Updated weights:\n",
      "w1: 0.1497807161327628, w2: 0.19956143226552567, w3: 0.24975114363236958, w4: 0.29950228726473915\n",
      "w5: 0.35891647971788465, w6: 0.4086661860762334, w7: 0.5113012702387375, w8: 0.5613701211079891\n"
     ]
    }
   ],
   "source": [
    "import math\n",
    "\n",
    "def sigmoid(x):\n",
    "    return 1 / (1 + math.exp(-x))\n",
    "\n",
    "def sigmoid_derivative(x):\n",
    "    return x * (1 - x)\n",
    "\n",
    "# Inputs and expected outputs\n",
    "x1, x2 = 0.05, 0.10\n",
    "target_o1, target_o2 = 0.01, 0.99\n",
    "\n",
    "# Initial weights and biases\n",
    "w1, w2, w3, w4 = 0.15, 0.20, 0.25, 0.30\n",
    "w5, w6, w7, w8 = 0.40, 0.45, 0.50, 0.55\n",
    "b1, b2 = 0.35, 0.60\n",
    "\n",
    "# Forward Pass\n",
    "net_h1 = x1 * w1 + x2 * w2 + b1\n",
    "h1 = sigmoid(net_h1)\n",
    "\n",
    "net_h2 = x1 * w3 + x2 * w4 + b1\n",
    "h2 = sigmoid(net_h2)\n",
    "\n",
    "net_o1 = h1 * w5 + h2 * w6 + b2\n",
    "o1 = sigmoid(net_o1)\n",
    "\n",
    "net_o2 = h1 * w7 + h2 * w8 + b2\n",
    "o2 = sigmoid(net_o2)\n",
    "\n",
    "# Compute error\n",
    "error_o1 = 0.5 * (target_o1 - o1) ** 2\n",
    "error_o2 = 0.5 * (target_o2 - o2) ** 2\n",
    "total_error = error_o1 + error_o2\n",
    "\n",
    "# Backward Pass\n",
    "output1 = (o1 - target_o1) * sigmoid_derivative(o1)\n",
    "output2 = (o2 - target_o2) * sigmoid_derivative(o2)\n",
    "\n",
    "w5_grad = h1 * output1\n",
    "w6_grad = h2 * output1\n",
    "w7_grad = h1 * output2\n",
    "w8_grad = h2 * output2\n",
    "\n",
    "h1_error = (output1 * w5) + (output2 * w7)\n",
    "h2_error = (output1 * w6) + (output2 * w8)\n",
    "\n",
    "h1_grad = h1_error * sigmoid_derivative(h1)\n",
    "h2_grad = h2_error * sigmoid_derivative(h2)\n",
    "\n",
    "w1_grad = x1 * h1_grad\n",
    "w2_grad = x2 * h1_grad\n",
    "w3_grad = x1 * h2_grad\n",
    "w4_grad = x2 * h2_grad\n",
    "\n",
    "# Update weights\n",
    "learning_rate = 0.5\n",
    "w1 -= learning_rate * w1_grad\n",
    "w2 -= learning_rate * w2_grad\n",
    "w3 -= learning_rate * w3_grad\n",
    "w4 -= learning_rate * w4_grad\n",
    "w5 -= learning_rate * w5_grad\n",
    "w6 -= learning_rate * w6_grad\n",
    "w7 -= learning_rate * w7_grad\n",
    "w8 -= learning_rate * w8_grad\n",
    "\n",
    "print(\"Updated weights:\")\n",
    "print(f\"w1: {w1}, w2: {w2}, w3: {w3}, w4: {w4}\")\n",
    "print(f\"w5: {w5}, w6: {w6}, w7: {w7}, w8: {w8}\")\n"
   ]
  },
  {
   "cell_type": "code",
   "execution_count": null,
   "id": "11da78c5",
   "metadata": {},
   "outputs": [],
   "source": []
  }
 ],
 "metadata": {
  "kernelspec": {
   "display_name": "Python 3 (ipykernel)",
   "language": "python",
   "name": "python3"
  },
  "language_info": {
   "codemirror_mode": {
    "name": "ipython",
    "version": 3
   },
   "file_extension": ".py",
   "mimetype": "text/x-python",
   "name": "python",
   "nbconvert_exporter": "python",
   "pygments_lexer": "ipython3",
   "version": "3.10.9"
  }
 },
 "nbformat": 4,
 "nbformat_minor": 5
}
